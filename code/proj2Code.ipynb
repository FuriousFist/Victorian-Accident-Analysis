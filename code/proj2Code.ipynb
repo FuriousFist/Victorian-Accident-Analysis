{
 "cells": [
  {
   "cell_type": "code",
   "execution_count": 1,
   "metadata": {},
   "outputs": [],
   "source": [
    "import pandas as pd"
   ]
  },
  {
   "cell_type": "markdown",
   "metadata": {},
   "source": [
    "-First I combine all the csv files into one and match them according to accident number.\n",
    "-This makes the data easier to work with. \n",
    "-Groupby is used to make sure each accident only appears once and making analysis simpler\n"
   ]
  },
  {
   "cell_type": "code",
   "execution_count": 8,
   "metadata": {},
   "outputs": [
    {
     "name": "stdout",
     "output_type": "stream",
     "text": [
      "178599\n"
     ]
    }
   ],
   "source": [
    "accident = pd.read_csv(\"/Users/armaansidhu/Documents/Uni/year-2/EODP/code/proj_2/datasets/accident.csv\")\n",
    "vehicle = pd.read_csv(\"/Users/armaansidhu/Documents/Uni/year-2/EODP/code/proj_2/datasets/vehicle.csv\")\n",
    "atmosphere_cond = pd.read_csv(\"/Users/armaansidhu/Documents/Uni/year-2/EODP/code/proj_2/datasets/atmospheric_cond.csv\")\n",
    "person = pd.read_csv(\"/Users/armaansidhu/Documents/Uni/year-2/EODP/code/proj_2/datasets/person.csv\")\n",
    "node = pd.read_csv(\"/Users/armaansidhu/Documents/Uni/year-2/EODP/code/proj_2/datasets/node.csv\")\n",
    "road_surface_cond = pd.read_csv(\"/Users/armaansidhu/Documents/Uni/year-2/EODP/code/proj_2/datasets/road_surface_cond.csv\")\n",
    "accident_loc = pd.read_csv(\"/Users/armaansidhu/Documents/Uni/year-2/EODP/code/proj_2/datasets/accident_location.csv\")\n",
    "\n",
    "data = (\n",
    "    accident\n",
    "    .merge(vehicle, on=\"ACCIDENT_NO\", how=\"inner\")\n",
    "    .merge(atmosphere_cond, on=\"ACCIDENT_NO\", how=\"inner\")\n",
    "    .merge(person, on=\"ACCIDENT_NO\", how=\"inner\")\n",
    "    .merge(node, on=\"ACCIDENT_NO\", how=\"inner\")\n",
    "    .merge(road_surface_cond, on=\"ACCIDENT_NO\", how=\"inner\")\n",
    "    .merge(accident_loc, on=\"ACCIDENT_NO\", how=\"inner\")\n",
    ")\n",
    "\n",
    "#data.head(10)\n",
    "data = data.groupby(\"ACCIDENT_NO\").size().sort_values(ascending=False)\n",
    "print(len(data))"
   ]
  }
 ],
 "metadata": {
  "kernelspec": {
   "display_name": "Python 3",
   "language": "python",
   "name": "python3"
  },
  "language_info": {
   "codemirror_mode": {
    "name": "ipython",
    "version": 3
   },
   "file_extension": ".py",
   "mimetype": "text/x-python",
   "name": "python",
   "nbconvert_exporter": "python",
   "pygments_lexer": "ipython3",
   "version": "3.11.4"
  }
 },
 "nbformat": 4,
 "nbformat_minor": 2
}
